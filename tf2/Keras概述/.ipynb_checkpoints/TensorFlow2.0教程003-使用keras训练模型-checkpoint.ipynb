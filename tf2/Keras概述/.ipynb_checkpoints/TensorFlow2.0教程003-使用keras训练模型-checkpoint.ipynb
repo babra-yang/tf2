{
 "cells": [
  {
   "cell_type": "markdown",
   "metadata": {},
   "source": [
    "# TensorFlow2教程-使用keras训练模型"
   ]
  },
  {
   "cell_type": "markdown",
   "metadata": {},
   "source": [
    "本指南包含了TensorFlow 2.0中在以下两种情况下的训练，评估和预测（推理）模型：\n",
    "\n",
    "+ 使用内置的训练和评估API（例如model.fit()，model.evaluate()，model.predict()）。\n",
    "+ 使用eager execution 和GradientTape对象从头开始编写自定义循环。\n",
    "\n",
    "无论是使用内置循环还是编写自己的循环，模型和评估训练在每种Keras模型中严格按照相同的方式工作，无论是Sequential 模型, 函数式 API, 还是模型子类化。\n",
    "\n"
   ]
  },
  {
   "cell_type": "code",
   "execution_count": 1,
   "metadata": {},
   "outputs": [],
   "source": [
    "from __future__ import absolute_import, division, print_function\n",
    "import tensorflow as tf\n",
    "tf.keras.backend.clear_session()\n",
    "import tensorflow.keras as keras\n",
    "import tensorflow.keras.layers as layers"
   ]
  },
  {
   "cell_type": "markdown",
   "metadata": {},
   "source": [
    "## 1 一般的模型构造、训练、测试流程\n"
   ]
  },
  {
   "cell_type": "markdown",
   "metadata": {},
   "source": [
    "使用内置的训练和评估API对模型进行训练和验证。\n",
    "\n"
   ]
  },
  {
   "cell_type": "code",
   "execution_count": 2,
   "metadata": {},
   "outputs": [],
   "source": [
    "# 模型构造\n",
    "inputs = keras.Input(shape=(784,), name='mnist_input')\n",
    "h1 = layers.Dense(64, activation='relu')(inputs)\n",
    "h1 = layers.Dense(64, activation='relu')(h1)\n",
    "outputs = layers.Dense(10, activation='softmax')(h1)\n",
    "model = keras.Model(inputs, outputs)\n",
    "# keras.utils.plot_model(model, 'net001.png', show_shapes=True)\n",
    "\n",
    "model.compile(optimizer=keras.optimizers.RMSprop(),\n",
    "             loss=keras.losses.SparseCategoricalCrossentropy(),\n",
    "             metrics=[keras.metrics.SparseCategoricalAccuracy()])"
   ]
  },
  {
   "cell_type": "markdown",
   "metadata": {},
   "source": [
    "端到端的模型训练。\n",
    "\n"
   ]
  },
  {
   "cell_type": "code",
   "execution_count": 3,
   "metadata": {},
   "outputs": [
    {
     "name": "stdout",
     "output_type": "stream",
     "text": [
      "Epoch 1/3\n",
      "782/782 [==============================] - 1s 1ms/step - loss: 0.3508 - sparse_categorical_accuracy: 0.9007 - val_loss: 0.2387 - val_sparse_categorical_accuracy: 0.9254\n",
      "Epoch 2/3\n",
      "782/782 [==============================] - 1s 1ms/step - loss: 0.1677 - sparse_categorical_accuracy: 0.9501 - val_loss: 0.1327 - val_sparse_categorical_accuracy: 0.9612\n",
      "Epoch 3/3\n",
      "782/782 [==============================] - 1s 1ms/step - loss: 0.1229 - sparse_categorical_accuracy: 0.9633 - val_loss: 0.1207 - val_sparse_categorical_accuracy: 0.9633\n",
      "history:\n",
      "{'loss': [0.3507663309574127, 0.16772893071174622, 0.1228933036327362], 'sparse_categorical_accuracy': [0.9007200002670288, 0.9501000046730042, 0.9632599949836731], 'val_loss': [0.23867085576057434, 0.13269120454788208, 0.12073920667171478], 'val_sparse_categorical_accuracy': [0.9254000186920166, 0.9611999988555908, 0.9632999897003174]}\n",
      "79/79 [==============================] - 0s 859us/step - loss: 0.1270 - sparse_categorical_accuracy: 0.9624\n",
      "evaluate:\n",
      "[0.12699058651924133, 0.9624000191688538]\n",
      "predict:\n",
      "[[4.3372296e-07 9.3322342e-08 1.0640792e-04 4.9457437e-04 1.4726362e-08\n",
      "  3.0706533e-07 5.5323615e-12 9.9935931e-01 4.2548677e-06 3.4671011e-05]\n",
      " [1.2598156e-08 6.5163831e-04 9.9910492e-01 2.1866495e-04 2.6674784e-11\n",
      "  1.7986398e-05 6.7330387e-07 8.1296031e-10 6.0268731e-06 2.5455263e-10]]\n"
     ]
    }
   ],
   "source": [
    "# 载入数据\n",
    "(x_train, y_train), (x_test, y_test) = keras.datasets.mnist.load_data()\n",
    "x_train = x_train.reshape(60000, 784).astype('float32') /255\n",
    "x_test = x_test.reshape(10000, 784).astype('float32') /255\n",
    "\n",
    "# 保证还是float 32？ 否则后面会出现：TypeError: Input 'y' of 'Sub' Op has type float32 that does not match type uint8 of argument 'x'.\n",
    "y_train = y_train.astype('float32')\n",
    "y_test = y_test.astype('float32')\n",
    "\n",
    "\n",
    "\n",
    "# 取验证数据\n",
    "x_val = x_train[-10000:]\n",
    "y_val = y_train[-10000:]\n",
    "\n",
    "x_train = x_train[:-10000]\n",
    "y_train = y_train[:-10000]\n",
    "\n",
    "# 训练模型\n",
    "history = model.fit(x_train, y_train, batch_size=64, epochs=3,\n",
    "         validation_data=(x_val, y_val))\n",
    "print('history:')\n",
    "print(history.history)\n",
    "\n",
    "result = model.evaluate(x_test, y_test, batch_size=128)\n",
    "print('evaluate:')\n",
    "print(result)\n",
    "pred = model.predict(x_test[:2])\n",
    "print('predict:')\n",
    "print(pred)\n"
   ]
  },
  {
   "cell_type": "markdown",
   "metadata": {},
   "source": [
    "## 2 自定义指标和损失"
   ]
  },
  {
   "cell_type": "markdown",
   "metadata": {},
   "source": [
    "### 2.1 配置网络"
   ]
  },
  {
   "cell_type": "markdown",
   "metadata": {},
   "source": [
    "在对模型训练之前，我们需要指定损失函数，优化器以及可选的一些要监控的指标。我们将这些配置参数作为compile()方法的参数传递给模型，对模型进行配置。\n",
    "\n"
   ]
  },
  {
   "cell_type": "code",
   "execution_count": 5,
   "metadata": {},
   "outputs": [],
   "source": [
    "model.compile(optimizer=keras.optimizers.RMSprop(learning_rate=1e-3),\n",
    "             loss=keras.losses.SparseCategoricalCrossentropy(),\n",
    "             metrics=[keras.metrics.SparseCategoricalAccuracy()])"
   ]
  },
  {
   "cell_type": "markdown",
   "metadata": {},
   "source": [
    "TensorFlow2提供许多内置的优化器，损失和指标 常见的内置参数如下：\n",
    "\n",
    "+ 优化器： - SGD()（有或没有动量） - RMSprop() - Adam() -等等。\n",
    "\n",
    "+ 损失： - MeanSquaredError() - KLDivergence() - CosineSimilarity() -等等。\n",
    "\n",
    "+ 指标： - AUC() - Precision() - Recall() -等等。"
   ]
  },
  {
   "cell_type": "markdown",
   "metadata": {},
   "source": [
    "### 2.2 自定义损失\n"
   ]
  },
  {
   "cell_type": "markdown",
   "metadata": {},
   "source": [
    "用Keras提供两种方式来提供自定义损失。\n",
    "\n",
    "+ 一、例创建一个接受输入y_true和的函数y_pred。\n",
    "+ 二、构建一个继承keras.losser.Loss的子类 下面示例显示了一个损失函数，该函数计算实际数据与预测之间的平均距离：\n"
   ]
  },
  {
   "cell_type": "code",
   "execution_count": 6,
   "metadata": {},
   "outputs": [
    {
     "name": "stdout",
     "output_type": "stream",
     "text": [
      "Epoch 1/3\n",
      "782/782 [==============================] - 1s 950us/step - loss: 4.3488\n",
      "Epoch 2/3\n",
      "782/782 [==============================] - 1s 921us/step - loss: 4.3488\n",
      "Epoch 3/3\n",
      "782/782 [==============================] - 1s 927us/step - loss: 4.3488\n"
     ]
    },
    {
     "data": {
      "text/plain": [
       "<keras.callbacks.History at 0x65a032690>"
      ]
     },
     "execution_count": 6,
     "metadata": {},
     "output_type": "execute_result"
    }
   ],
   "source": [
    "def get_uncompiled_model():\n",
    "    inputs=keras.Input(shape=(784,),name='digits')\n",
    "    x = layers.Dense(64,activation='relu',name='dense_1')(inputs)\n",
    "    x = layers.Dense(64,activation='relu',name='dense_2')(x)\n",
    "    outputs=layers.Dense(10,activation='softmax',name='predictions')(x)\n",
    "    model=keras.Model(inputs=inputs,outputs=outputs)\n",
    "    return model\n",
    "model =get_uncompiled_model()\n",
    "\n",
    "def basic_loss_function(y_true,y_pred):\n",
    "    return tf.math.reduce_mean(y_true-y_pred)\n",
    "model.compile(optimizer=keras.optimizers.Adam(),\n",
    "             loss=basic_loss_function)\n",
    "model.fit(x_train,y_train,batch_size=64,epochs=3)"
   ]
  },
  {
   "cell_type": "markdown",
   "metadata": {},
   "source": [
    "如果需要试下带参数的损失函数，可以子类化tf.keras.losses.Loss。并子类化以下方法：\n",
    "\n",
    "+ __init__(self) 接收相关参数，初始化loss之类。\n",
    "+ call(self, y_true, y_pred) 使用 y_true和y_pred，计算模型损失。\n",
    "\n",
    "下面例子，展示了WeightedCrossEntropy计算二分损失的损失函数，某个类或整个函数的损失可以通过标量修改。"
   ]
  },
  {
   "cell_type": "code",
   "execution_count": 10,
   "metadata": {},
   "outputs": [
    {
     "name": "stdout",
     "output_type": "stream",
     "text": [
      "Epoch 1/3\n",
      "782/782 [==============================] - 1s 999us/step - loss: 9.5182\n",
      "Epoch 2/3\n",
      "782/782 [==============================] - 1s 966us/step - loss: 9.5170\n",
      "Epoch 3/3\n",
      "782/782 [==============================] - 1s 1ms/step - loss: 9.5171\n"
     ]
    },
    {
     "data": {
      "text/plain": [
       "<keras.callbacks.History at 0x65cf09ed0>"
      ]
     },
     "execution_count": 10,
     "metadata": {},
     "output_type": "execute_result"
    }
   ],
   "source": [
    "class WeightBinaryCrossEntropy(keras.losses.Loss):\n",
    "    def __init__(self,pos_weight,weight,from_logits=False,\n",
    "                reduction=keras.losses.Reduction.AUTO,\n",
    "                name='weight_binary_crossentropy'):\n",
    "        \"\"\"\n",
    "        pos_weight: 正类标签权重\n",
    "        weight: 整体损失权重\n",
    "        from_logits: 是否使用logits来计算loss，（或使用probability）\n",
    "        reduction: reduction类型\n",
    "        name: 名字\n",
    "        \"\"\"\n",
    "        super (WeightBinaryCrossEntropy,self).__init__(reduction=reduction,name=name)\n",
    "        self.pos_weight=pos_weight\n",
    "        self.weight=weight\n",
    "        self.from_logits=from_logits\n",
    "    def call(self,y_true,y_pred):\n",
    "        if not self.from_logits:\n",
    "            x_1 =y_true*self.pos_weight* -tf.math.log(y_pred+1e-6)\n",
    "            \n",
    "            x_2 = (1-y_true)* -tf.math.log(1-y_pred+1e-6)\n",
    "            \n",
    "            return tf.add(x_1,x_2)*self.weight\n",
    "        return tf.nn.weighted_cross_entropy_with_logits(y_true,y_pred,self.pos_weight)*self.weight\n",
    "model.compile(optimizer=keras.optimizers.Adam(),\n",
    "             loss = WeightBinaryCrossEntropy(0.5,2))\n",
    "model.fit(x_train,y_train,batch_size=64,epochs=3)\n",
    "    "
   ]
  },
  {
   "cell_type": "code",
   "execution_count": null,
   "metadata": {},
   "outputs": [],
   "source": []
  }
 ],
 "metadata": {
  "kernelspec": {
   "display_name": "Python 3",
   "language": "python",
   "name": "python3"
  },
  "language_info": {
   "codemirror_mode": {
    "name": "ipython",
    "version": 3
   },
   "file_extension": ".py",
   "mimetype": "text/x-python",
   "name": "python",
   "nbconvert_exporter": "python",
   "pygments_lexer": "ipython3",
   "version": "3.7.4"
  }
 },
 "nbformat": 4,
 "nbformat_minor": 1
}
