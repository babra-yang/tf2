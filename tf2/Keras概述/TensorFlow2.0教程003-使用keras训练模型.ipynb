{
 "cells": [
  {
   "cell_type": "markdown",
   "metadata": {
    "collapsed": true
   },
   "source": [
    "# TensorFlow2教程-使用keras训练模型"
   ]
  },
  {
   "cell_type": "markdown",
   "metadata": {},
   "source": [
    "本指南包含了TensorFlow 2.0中在以下两种情况下的训练，评估和预测（推理）模型：\n",
    "\n",
    "+ 使用内置的训练和评估API（例如model.fit()，model.evaluate()，model.predict()）。\n",
    "+ 使用eager execution 和GradientTape对象从头开始编写自定义循环。\n",
    "\n",
    "无论是使用内置循环还是编写自己的循环，模型和评估训练在每种Keras模型中严格按照相同的方式工作，无论是Sequential 模型, 函数式 API, 还是模型子类化。\n",
    "\n"
   ]
  },
  {
   "cell_type": "code",
   "execution_count": 2,
   "metadata": {},
   "outputs": [],
   "source": [
    "from __future__ import absolute_import, division, print_function\n",
    "import tensorflow as tf\n",
    "tf.keras.backend.clear_session()\n",
    "import tensorflow.keras as keras\n",
    "import tensorflow.keras.layers as layers"
   ]
  },
  {
   "cell_type": "markdown",
   "metadata": {},
   "source": [
    "## 1 一般的模型构造、训练、测试流程\n"
   ]
  },
  {
   "cell_type": "markdown",
   "metadata": {},
   "source": [
    "使用内置的训练和评估API对模型进行训练和验证。\n",
    "\n"
   ]
  },
  {
   "cell_type": "code",
   "execution_count": 3,
   "metadata": {},
   "outputs": [],
   "source": [
    "# 模型构造\n",
    "inputs = keras.Input(shape=(784,), name='mnist_input')\n",
    "h1 = layers.Dense(64, activation='relu')(inputs)\n",
    "h1 = layers.Dense(64, activation='relu')(h1)\n",
    "outputs = layers.Dense(10, activation='softmax')(h1)\n",
    "model = keras.Model(inputs, outputs)\n",
    "# keras.utils.plot_model(model, 'net001.png', show_shapes=True)\n",
    "\n",
    "model.compile(optimizer=keras.optimizers.RMSprop(),\n",
    "             loss=keras.losses.SparseCategoricalCrossentropy(),\n",
    "             metrics=[keras.metrics.SparseCategoricalAccuracy()])"
   ]
  },
  {
   "cell_type": "markdown",
   "metadata": {},
   "source": [
    "端到端的模型训练。\n",
    "\n"
   ]
  },
  {
   "cell_type": "code",
   "execution_count": 4,
   "metadata": {},
   "outputs": [
    {
     "name": "stdout",
     "output_type": "stream",
     "text": [
      "Downloading data from https://storage.googleapis.com/tensorflow/tf-keras-datasets/mnist.npz\n",
      "11493376/11490434 [==============================] - 10s 1us/step\n",
      "Epoch 1/3\n",
      "782/782 [==============================] - 1s 1ms/step - loss: 0.3342 - sparse_categorical_accuracy: 0.9048 - val_loss: 0.1805 - val_sparse_categorical_accuracy: 0.9461\n",
      "Epoch 2/3\n",
      "782/782 [==============================] - 1s 991us/step - loss: 0.1564 - sparse_categorical_accuracy: 0.9535 - val_loss: 0.1324 - val_sparse_categorical_accuracy: 0.9624\n",
      "Epoch 3/3\n",
      "782/782 [==============================] - 1s 983us/step - loss: 0.1146 - sparse_categorical_accuracy: 0.9651 - val_loss: 0.1195 - val_sparse_categorical_accuracy: 0.9653\n",
      "history:\n",
      "{'loss': [0.33420199155807495, 0.15635664761066437, 0.11455204337835312], 'sparse_categorical_accuracy': [0.9047799706459045, 0.953499972820282, 0.9651399850845337], 'val_loss': [0.18046434223651886, 0.13240696489810944, 0.11946222186088562], 'val_sparse_categorical_accuracy': [0.9460999965667725, 0.9624000191688538, 0.9653000235557556]}\n",
      "79/79 [==============================] - 0s 727us/step - loss: 0.1183 - sparse_categorical_accuracy: 0.9627\n",
      "evaluate:\n",
      "[0.11826764792203903, 0.9627000093460083]\n",
      "predict:\n",
      "[[3.62319611e-07 1.06600870e-08 1.49446816e-04 3.54157964e-04\n",
      "  6.06375727e-10 1.08145073e-07 5.55491981e-12 9.99484062e-01\n",
      "  1.05048985e-05 1.39278086e-06]\n",
      " [2.50652306e-07 2.24202322e-05 9.99493241e-01 4.78702364e-04\n",
      "  2.84129382e-13 6.22386381e-07 1.65759161e-06 3.17240706e-10\n",
      "  3.05724711e-06 2.77887488e-14]]\n"
     ]
    }
   ],
   "source": [
    "# 载入数据\n",
    "(x_train, y_train), (x_test, y_test) = keras.datasets.mnist.load_data()\n",
    "x_train = x_train.reshape(60000, 784).astype('float32') /255\n",
    "x_test = x_test.reshape(10000, 784).astype('float32') /255\n",
    "\n",
    "# 保证还是float 32？ 否则后面会出现：TypeError: Input 'y' of 'Sub' Op has type float32 that does not match type uint8 of argument 'x'.\n",
    "y_train = y_train.astype('float32')\n",
    "y_test = y_test.astype('float32')\n",
    "\n",
    "\n",
    "\n",
    "# 取验证数据\n",
    "x_val = x_train[-10000:]\n",
    "y_val = y_train[-10000:]\n",
    "\n",
    "x_train = x_train[:-10000]\n",
    "y_train = y_train[:-10000]\n",
    "\n",
    "# 训练模型\n",
    "history = model.fit(x_train, y_train, batch_size=64, epochs=3,\n",
    "         validation_data=(x_val, y_val))\n",
    "print('history:')\n",
    "print(history.history)\n",
    "\n",
    "result = model.evaluate(x_test, y_test, batch_size=128)\n",
    "print('evaluate:')\n",
    "print(result)\n",
    "pred = model.predict(x_test[:2])\n",
    "print('predict:')\n",
    "print(pred)\n"
   ]
  },
  {
   "cell_type": "code",
   "execution_count": null,
   "metadata": {},
   "outputs": [],
   "source": []
  }
 ],
 "metadata": {
  "kernelspec": {
   "display_name": "Python 3",
   "language": "python",
   "name": "python3"
  },
  "language_info": {
   "codemirror_mode": {
    "name": "ipython",
    "version": 3
   },
   "file_extension": ".py",
   "mimetype": "text/x-python",
   "name": "python",
   "nbconvert_exporter": "python",
   "pygments_lexer": "ipython3",
   "version": "3.7.4"
  }
 },
 "nbformat": 4,
 "nbformat_minor": 1
}
