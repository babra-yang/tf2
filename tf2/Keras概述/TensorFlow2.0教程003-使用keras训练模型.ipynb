{
 "cells": [
  {
   "cell_type": "markdown",
   "metadata": {},
   "source": [
    "# TensorFlow2教程-使用keras训练模型"
   ]
  },
  {
   "cell_type": "markdown",
   "metadata": {
    "slideshow": {
     "slide_type": "skip"
    }
   },
   "source": [
    "本指南包含了TensorFlow 2.0中在以下两种情况下的训练，评估和预测（推理）模型：\n",
    "\n",
    "+ 使用内置的训练和评估API（例如model.fit()，model.evaluate()，model.predict()）。\n",
    "+ 使用eager execution 和GradientTape对象从头开始编写自定义循环。\n",
    "\n",
    "无论是使用内置循环还是编写自己的循环，模型和评估训练在每种Keras模型中严格按照相同的方式工作，无论是Sequential 模型, 函数式 API, 还是模型子类化。\n",
    "\n"
   ]
  },
  {
   "cell_type": "code",
   "execution_count": 1,
   "metadata": {},
   "outputs": [],
   "source": [
    "from __future__ import absolute_import, division, print_function\n",
    "import tensorflow as tf\n",
    "tf.keras.backend.clear_session()\n",
    "import tensorflow.keras as keras\n",
    "import tensorflow.keras.layers as layers"
   ]
  },
  {
   "cell_type": "markdown",
   "metadata": {},
   "source": [
    "## 1 一般的模型构造、训练、测试流程\n"
   ]
  },
  {
   "cell_type": "markdown",
   "metadata": {},
   "source": [
    "使用内置的训练和评估API对模型进行训练和验证。\n",
    "\n"
   ]
  },
  {
   "cell_type": "code",
   "execution_count": 2,
   "metadata": {},
   "outputs": [
    {
     "name": "stderr",
     "output_type": "stream",
     "text": [
      "2022-05-05 09:46:23.985553: I tensorflow/core/platform/cpu_feature_guard.cc:151] This TensorFlow binary is optimized with oneAPI Deep Neural Network Library (oneDNN) to use the following CPU instructions in performance-critical operations:  AVX2 FMA\n",
      "To enable them in other operations, rebuild TensorFlow with the appropriate compiler flags.\n"
     ]
    }
   ],
   "source": [
    "# 模型构造\n",
    "inputs = keras.Input(shape=(784,), name='mnist_input')\n",
    "h1 = layers.Dense(64, activation='relu')(inputs)\n",
    "h1 = layers.Dense(64, activation='relu')(h1)\n",
    "outputs = layers.Dense(10, activation='softmax')(h1)\n",
    "model = keras.Model(inputs, outputs)\n",
    "# keras.utils.plot_model(model, 'net001.png', show_shapes=True)\n",
    "\n",
    "model.compile(optimizer=keras.optimizers.RMSprop(),\n",
    "             loss=keras.losses.SparseCategoricalCrossentropy(),\n",
    "             metrics=[keras.metrics.SparseCategoricalAccuracy()])"
   ]
  },
  {
   "cell_type": "markdown",
   "metadata": {},
   "source": [
    "端到端的模型训练。\n",
    "\n"
   ]
  },
  {
   "cell_type": "code",
   "execution_count": 3,
   "metadata": {},
   "outputs": [
    {
     "name": "stdout",
     "output_type": "stream",
     "text": [
      "Epoch 1/3\n",
      "782/782 [==============================] - 2s 2ms/step - loss: 0.3365 - sparse_categorical_accuracy: 0.9033 - val_loss: 0.1953 - val_sparse_categorical_accuracy: 0.9464\n",
      "Epoch 2/3\n",
      "782/782 [==============================] - 1s 1ms/step - loss: 0.1637 - sparse_categorical_accuracy: 0.9508 - val_loss: 0.1475 - val_sparse_categorical_accuracy: 0.9583\n",
      "Epoch 3/3\n",
      "782/782 [==============================] - 1s 1ms/step - loss: 0.1216 - sparse_categorical_accuracy: 0.9634 - val_loss: 0.1645 - val_sparse_categorical_accuracy: 0.9546\n",
      "history:\n",
      "{'loss': [0.3365267217159271, 0.16368938982486725, 0.12155487388372421], 'sparse_categorical_accuracy': [0.9032599925994873, 0.9508399963378906, 0.9633600115776062], 'val_loss': [0.1953379511833191, 0.1475069522857666, 0.16446182131767273], 'val_sparse_categorical_accuracy': [0.946399986743927, 0.958299994468689, 0.9545999765396118]}\n",
      "79/79 [==============================] - 0s 1ms/step - loss: 0.1613 - sparse_categorical_accuracy: 0.9537\n",
      "evaluate:\n",
      "[0.1612636297941208, 0.9537000060081482]\n",
      "predict:\n",
      "[[3.6218355e-06 1.0698725e-08 2.1196918e-04 1.3803849e-03 1.6362065e-08\n",
      "  1.7717521e-05 5.4210587e-11 9.9820924e-01 3.2195599e-05 1.4492049e-04]\n",
      " [4.4097328e-07 5.2006698e-07 9.9995387e-01 4.1089086e-05 4.8978074e-13\n",
      "  4.8978836e-07 3.0797995e-07 3.5113271e-12 3.2132243e-06 1.0841171e-12]]\n"
     ]
    }
   ],
   "source": [
    "# 载入数据\n",
    "(x_train, y_train), (x_test, y_test) = keras.datasets.mnist.load_data()\n",
    "x_train = x_train.reshape(60000, 784).astype('float32') /255\n",
    "x_test = x_test.reshape(10000, 784).astype('float32') /255\n",
    "\n",
    "# 保证还是float 32？ 否则后面会出现：TypeError: Input 'y' of 'Sub' Op has type float32 that does not match type uint8 of argument 'x'.\n",
    "y_train = y_train.astype('float32')\n",
    "y_test = y_test.astype('float32')\n",
    "\n",
    "\n",
    "\n",
    "# 取验证数据\n",
    "x_val = x_train[-10000:]\n",
    "y_val = y_train[-10000:]\n",
    "\n",
    "x_train = x_train[:-10000]\n",
    "y_train = y_train[:-10000]\n",
    "\n",
    "# 训练模型\n",
    "history = model.fit(x_train, y_train, batch_size=64, epochs=3,\n",
    "         validation_data=(x_val, y_val))\n",
    "print('history:')\n",
    "print(history.history)\n",
    "\n",
    "result = model.evaluate(x_test, y_test, batch_size=128)\n",
    "print('evaluate:')\n",
    "print(result)\n",
    "pred = model.predict(x_test[:2])\n",
    "print('predict:')\n",
    "print(pred)\n"
   ]
  },
  {
   "cell_type": "markdown",
   "metadata": {},
   "source": [
    "## 2 自定义指标和损失"
   ]
  },
  {
   "cell_type": "markdown",
   "metadata": {},
   "source": [
    "### 2.1 配置网络"
   ]
  },
  {
   "cell_type": "markdown",
   "metadata": {},
   "source": [
    "在对模型训练之前，我们需要指定损失函数，优化器以及可选的一些要监控的指标。我们将这些配置参数作为compile()方法的参数传递给模型，对模型进行配置。\n",
    "\n"
   ]
  },
  {
   "cell_type": "code",
   "execution_count": 4,
   "metadata": {},
   "outputs": [],
   "source": [
    "model.compile(optimizer=keras.optimizers.RMSprop(learning_rate=1e-3),\n",
    "             loss=keras.losses.SparseCategoricalCrossentropy(),\n",
    "             metrics=[keras.metrics.SparseCategoricalAccuracy()])"
   ]
  },
  {
   "cell_type": "markdown",
   "metadata": {},
   "source": [
    "TensorFlow2提供许多内置的优化器，损失和指标 常见的内置参数如下：\n",
    "\n",
    "+ 优化器： - SGD()（有或没有动量） - RMSprop() - Adam() -等等。\n",
    "\n",
    "+ 损失： - MeanSquaredError() - KLDivergence() - CosineSimilarity() -等等。\n",
    "\n",
    "+ 指标： - AUC() - Precision() - Recall() -等等。"
   ]
  },
  {
   "cell_type": "markdown",
   "metadata": {},
   "source": [
    "### 2.2 自定义损失\n"
   ]
  },
  {
   "cell_type": "markdown",
   "metadata": {},
   "source": [
    "用Keras提供两种方式来提供自定义损失。\n",
    "\n",
    "+ 一、例创建一个接受输入y_true和的函数y_pred。\n",
    "+ 二、构建一个继承keras.losser.Loss的子类 下面示例显示了一个损失函数，该函数计算实际数据与预测之间的平均距离：\n"
   ]
  },
  {
   "cell_type": "code",
   "execution_count": 5,
   "metadata": {},
   "outputs": [
    {
     "name": "stdout",
     "output_type": "stream",
     "text": [
      "Epoch 1/3\n",
      "782/782 [==============================] - 1s 1ms/step - loss: 4.3488\n",
      "Epoch 2/3\n",
      "782/782 [==============================] - 1s 1ms/step - loss: 4.3488\n",
      "Epoch 3/3\n",
      "782/782 [==============================] - 1s 978us/step - loss: 4.3488\n"
     ]
    },
    {
     "data": {
      "text/plain": [
       "<keras.callbacks.History at 0x172a33d90>"
      ]
     },
     "execution_count": 5,
     "metadata": {},
     "output_type": "execute_result"
    }
   ],
   "source": [
    "def get_uncompiled_model():\n",
    "    inputs=keras.Input(shape=(784,),name='digits')\n",
    "    x = layers.Dense(64,activation='relu',name='dense_1')(inputs)\n",
    "    x = layers.Dense(64,activation='relu',name='dense_2')(x)\n",
    "    outputs=layers.Dense(10,activation='softmax',name='predictions')(x)\n",
    "    model=keras.Model(inputs=inputs,outputs=outputs)\n",
    "    return model\n",
    "model =get_uncompiled_model()\n",
    "\n",
    "def basic_loss_function(y_true,y_pred):\n",
    "    return tf.math.reduce_mean(y_true-y_pred)\n",
    "model.compile(optimizer=keras.optimizers.Adam(),\n",
    "             loss=basic_loss_function)\n",
    "model.fit(x_train,y_train,batch_size=64,epochs=3)"
   ]
  },
  {
   "cell_type": "markdown",
   "metadata": {},
   "source": [
    "如果需要试下带参数的损失函数，可以子类化tf.keras.losses.Loss。并子类化以下方法：\n",
    "\n",
    "+ __init__(self) 接收相关参数，初始化loss之类。\n",
    "+ call(self, y_true, y_pred) 使用 y_true和y_pred，计算模型损失。\n",
    "\n",
    "下面例子，展示了WeightedCrossEntropy计算二分损失的损失函数，某个类或整个函数的损失可以通过标量修改。"
   ]
  },
  {
   "cell_type": "code",
   "execution_count": 6,
   "metadata": {},
   "outputs": [
    {
     "name": "stdout",
     "output_type": "stream",
     "text": [
      "Epoch 1/3\n",
      "782/782 [==============================] - 1s 1ms/step - loss: 9.5182\n",
      "Epoch 2/3\n",
      "782/782 [==============================] - 1s 1ms/step - loss: 9.5171\n",
      "Epoch 3/3\n",
      "782/782 [==============================] - 1s 1ms/step - loss: 9.5170\n"
     ]
    },
    {
     "data": {
      "text/plain": [
       "<keras.callbacks.History at 0x171eff810>"
      ]
     },
     "execution_count": 6,
     "metadata": {},
     "output_type": "execute_result"
    }
   ],
   "source": [
    "class WeightBinaryCrossEntropy(keras.losses.Loss):\n",
    "    def __init__(self,pos_weight,weight,from_logits=False,\n",
    "                reduction=keras.losses.Reduction.AUTO,\n",
    "                name='weight_binary_crossentropy'):\n",
    "        \"\"\"\n",
    "        pos_weight: 正类标签权重\n",
    "        weight: 整体损失权重\n",
    "        from_logits: 是否使用logits来计算loss，（或使用probability）\n",
    "        reduction: reduction类型\n",
    "        name: 名字\n",
    "        \"\"\"\n",
    "        super (WeightBinaryCrossEntropy,self).__init__(reduction=reduction,name=name)\n",
    "        self.pos_weight=pos_weight\n",
    "        self.weight=weight\n",
    "        self.from_logits=from_logits\n",
    "    def call(self,y_true,y_pred):\n",
    "        if not self.from_logits:\n",
    "            x_1 =y_true*self.pos_weight* -tf.math.log(y_pred+1e-6)\n",
    "            \n",
    "            x_2 = (1-y_true)* -tf.math.log(1-y_pred+1e-6)\n",
    "            \n",
    "            return tf.add(x_1,x_2)*self.weight\n",
    "        return tf.nn.weighted_cross_entropy_with_logits(y_true,y_pred,self.pos_weight)*self.weight\n",
    "model.compile(optimizer=keras.optimizers.Adam(),\n",
    "             loss = WeightBinaryCrossEntropy(0.5,2))\n",
    "model.fit(x_train,y_train,batch_size=64,epochs=3)\n",
    "    "
   ]
  },
  {
   "cell_type": "markdown",
   "metadata": {},
   "source": [
    "### 2.3 自定义指标"
   ]
  },
  {
   "cell_type": "markdown",
   "metadata": {},
   "source": [
    "自定义指标只需继承Metric类， 并重写以下函数：\n",
    "\n",
    "+ __init__(self)，初始化。\n",
    "\n",
    "+ update_state(self，y_true，y_pred，sample_weight = None)，它使用目标y_true和模型预测y_pred来更新状态变量。\n",
    "\n",
    "+ result(self)，它使用状态变量来计算最终结果。\n",
    "\n",
    "+ reset_states(self)，重新初始化度量的状态。\n",
    "\n",
    "状态更新和结果计算保持分开（分别在update_state()和result()中），因为在某些情况下，结果计算可能非常昂贵，并且只能定期进行。"
   ]
  },
  {
   "cell_type": "code",
   "execution_count": 7,
   "metadata": {},
   "outputs": [
    {
     "name": "stdout",
     "output_type": "stream",
     "text": [
      "Epoch 1/3\n",
      "782/782 [==============================] - 1s 1ms/step - loss: 0.5204 - binary_true_postives: 7614.0000\n",
      "Epoch 2/3\n",
      "138/782 [====>.........................] - ETA: 0s - loss: 0.2236 - binary_true_postives: 1352.0000"
     ]
    },
    {
     "name": "stderr",
     "output_type": "stream",
     "text": [
      "/Users/jinyang/opt/anaconda3/lib/python3.7/site-packages/keras/engine/training.py:2034: UserWarning: Metric CatgoricalTruePostives implements a `reset_states()` method; rename it to `reset_state()` (without the final \"s\"). The name `reset_states()` has been deprecated to improve API consistency.\n",
      "  m.reset_state()\n"
     ]
    },
    {
     "name": "stdout",
     "output_type": "stream",
     "text": [
      "782/782 [==============================] - 1s 1ms/step - loss: 0.1937 - binary_true_postives: 7728.0000\n",
      "Epoch 3/3\n",
      "782/782 [==============================] - 1s 1ms/step - loss: 0.1391 - binary_true_postives: 7565.0000\n"
     ]
    },
    {
     "data": {
      "text/plain": [
       "<keras.callbacks.History at 0x1632e9290>"
      ]
     },
     "execution_count": 7,
     "metadata": {},
     "output_type": "execute_result"
    }
   ],
   "source": [
    "# 下面是一个简单的示例，显示如何实现CatgoricalTruePositives指标，该指标计算正确分类为属于给定类的样本数量\n",
    "\n",
    "class CatgoricalTruePostives(keras.metrics.Metric):\n",
    "    def __init__(self,name='binary_true_postives',**kwargs):\n",
    "        super(CatgoricalTruePostives,self).__init__(name=name,**kwargs)\n",
    "        \n",
    "         # 会更新的类变量\n",
    "        self.true_postives=self.add_weight(name='tp',initializer='zeros')\n",
    "    def update_state(self,y_true,y_pred,sample_weight=None):\n",
    "        # 获取结果id\n",
    "        y_pred=tf.argmax(y_pred)\n",
    "        # 正确的结果\n",
    "        y_true=tf.equal(tf.cast(y_pred,tf.int32),tf.cast(y_true,tf.int32))\n",
    "        y_true=tf.cast(y_true,tf.float32)\n",
    "        \n",
    "        if sample_weight is not None:\n",
    "            # 对正确结果加权重\n",
    "            sample_weight=tf.cast(sample_weight,tf.float32)\n",
    "            y_true = tf.multiply(sample_weight,y_true)\n",
    "        # 修改正确样本总量\n",
    "        return self.true_postives.assign_add(tf.reduce_sum(y_true)) # assign_add：将值加到self.true_postives\n",
    "    def result(self):\n",
    "        # 返回相应tensor\n",
    "        return tf.identity(self.true_postives) # tf.identity：读取 self.true_postives，和assign_add 配对使用\n",
    "    def reset_states(self):\n",
    "        # 重置为0\n",
    "        self.true_postives.assign(0.)\n",
    "model.compile(optimizer=keras.optimizers.RMSprop(1e-3),\n",
    "             loss=keras.losses.SparseCategoricalCrossentropy(),\n",
    "             metrics=[CatgoricalTruePostives()])\n",
    "\n",
    "model.fit(x_train, y_train,\n",
    "         batch_size=64, epochs=3)\n",
    "            \n",
    "                \n",
    "#自定义指标类里面一定要有result，update_state,reset_states 三个方法        "
   ]
  },
  {
   "cell_type": "markdown",
   "metadata": {},
   "source": [
    "使用自定义层的方式获取相关指标\n",
    "\n"
   ]
  },
  {
   "cell_type": "code",
   "execution_count": 8,
   "metadata": {},
   "outputs": [
    {
     "name": "stdout",
     "output_type": "stream",
     "text": [
      "Epoch 1/3\n",
      "1563/1563 [==============================] - 2s 1ms/step - loss: 0.2993 - sparse_categorical_accuracy: 0.9131 - std_of_activation: 1.0246\n",
      "Epoch 2/3\n",
      "1563/1563 [==============================] - 2s 1ms/step - loss: 0.1373 - sparse_categorical_accuracy: 0.9589 - std_of_activation: 1.0881\n",
      "Epoch 3/3\n",
      "1563/1563 [==============================] - 2s 1ms/step - loss: 0.1040 - sparse_categorical_accuracy: 0.9690 - std_of_activation: 1.1442\n"
     ]
    },
    {
     "data": {
      "text/plain": [
       "<keras.callbacks.History at 0x166857b10>"
      ]
     },
     "execution_count": 8,
     "metadata": {},
     "output_type": "execute_result"
    }
   ],
   "source": [
    "# 也可以以定义网络层的方式添加要统计的metric\n",
    "class MetricLoggingLayer(layers.Layer):\n",
    "    def call(self,inputs):\n",
    "        # 该层的作用就是添加指标\n",
    "        self.add_metric(keras.backend.std(inputs),\n",
    "                       name='std_of_activation',\n",
    "                       aggregation='mean')\n",
    "        # 直接把输入进行输出\n",
    "        return inputs\n",
    "inputs = keras.Input(shape=(784,),name='mnist_input')\n",
    "h1 = layers.Dense(64,activation='relu')(inputs)\n",
    "\n",
    "# 直接套在对应的网络层中\n",
    "h1 = MetricLoggingLayer()(h1)\n",
    "h1 = layers.Dense(64,activation='relu')(h1)\n",
    "outputs = layers.Dense(10,activation='softmax')(h1)\n",
    "model = keras.Model(inputs,outputs)\n",
    "keras.utils.plot_model(model, 'net001.png', show_shapes=True)\n",
    "# 配置并训练网络\n",
    "model.compile(optimizer=keras.optimizers.RMSprop(),\n",
    "             loss= keras.losses.SparseCategoricalCrossentropy(),\n",
    "             metrics=[keras.metrics.SparseCategoricalAccuracy()])\n",
    "model.fit(x_train,y_train,batch_size=32,epochs=3)\n",
    "\n",
    "\n",
    "        \n"
   ]
  },
  {
   "cell_type": "markdown",
   "metadata": {},
   "source": [
    "我们也可以在构建好模型后直接使用，model.add_loss和model.add_metric添加损失和指标。\n",
    "\n"
   ]
  },
  {
   "cell_type": "code",
   "execution_count": 9,
   "metadata": {},
   "outputs": [
    {
     "name": "stdout",
     "output_type": "stream",
     "text": [
      "Epoch 1/10\n",
      "1563/1563 [==============================] - 2s 1ms/step - loss: 2.3543 - sparse_categorical_accuracy: 0.1128 - std_of_activation: 0.0011\n",
      "Epoch 2/10\n",
      "1563/1563 [==============================] - 2s 1ms/step - loss: 2.3013 - sparse_categorical_accuracy: 0.1136 - std_of_activation: 3.7094e-06\n",
      "Epoch 3/10\n",
      "1563/1563 [==============================] - 2s 1ms/step - loss: 2.3012 - sparse_categorical_accuracy: 0.1136 - std_of_activation: 0.0000e+00\n",
      "Epoch 4/10\n",
      "1563/1563 [==============================] - 2s 1ms/step - loss: 2.3012 - sparse_categorical_accuracy: 0.1136 - std_of_activation: 0.0000e+00\n",
      "Epoch 5/10\n",
      "1563/1563 [==============================] - 2s 1ms/step - loss: 2.3012 - sparse_categorical_accuracy: 0.1136 - std_of_activation: 0.0000e+00\n",
      "Epoch 6/10\n",
      "1563/1563 [==============================] - 2s 1ms/step - loss: 2.3012 - sparse_categorical_accuracy: 0.1136 - std_of_activation: 0.0000e+00\n",
      "Epoch 7/10\n",
      "1563/1563 [==============================] - 2s 1ms/step - loss: 2.3012 - sparse_categorical_accuracy: 0.1136 - std_of_activation: 0.0000e+00\n",
      "Epoch 8/10\n",
      "1563/1563 [==============================] - 2s 1ms/step - loss: 2.3012 - sparse_categorical_accuracy: 0.1136 - std_of_activation: 0.0000e+00\n",
      "Epoch 9/10\n",
      "1563/1563 [==============================] - 2s 1ms/step - loss: 2.3012 - sparse_categorical_accuracy: 0.1136 - std_of_activation: 0.0000e+00\n",
      "Epoch 10/10\n",
      "1563/1563 [==============================] - 2s 1ms/step - loss: 2.3012 - sparse_categorical_accuracy: 0.1136 - std_of_activation: 0.0000e+00\n"
     ]
    },
    {
     "data": {
      "text/plain": [
       "<keras.callbacks.History at 0x166a9ff50>"
      ]
     },
     "execution_count": 9,
     "metadata": {},
     "output_type": "execute_result"
    }
   ],
   "source": [
    "inputs=keras.Input(shape=(784,),name='mnist_input')\n",
    "h1 =layers.Dense(64,activation='relu')(inputs)\n",
    "h2 = layers.Dense(10,activation='relu')(h1)\n",
    "outputs = layers.Dense(10,activation='softmax')(h2)\n",
    "model = keras.Model(inputs,outputs)\n",
    "# 直接把计算loss或metric用到的输入(h1)带人\n",
    "model.add_metric(keras.backend.std(h1),\n",
    "                name='std_of_activation',\n",
    "                aggregation='mean')\n",
    "model.add_loss(tf.reduce_sum(h1)*0.1)\n",
    "\n",
    "model.compile(optimizer=keras.optimizers.RMSprop(),\n",
    "             loss=keras.losses.SparseCategoricalCrossentropy(),\n",
    "             metrics=[keras.metrics.SparseCategoricalAccuracy()])\n",
    "model.fit(x_train,y_train,batch_size=32,epochs=10)"
   ]
  },
  {
   "cell_type": "markdown",
   "metadata": {},
   "source": [
    "处理使用validation_data传入测试数据，还可以使用validation_split划分验证数据\n",
    "\n",
    "ps:validation_split只能在用numpy数据训练的情况下使用\n",
    "\n"
   ]
  },
  {
   "cell_type": "code",
   "execution_count": 10,
   "metadata": {
    "collapsed": false,
    "jupyter": {
     "outputs_hidden": false
    },
    "pycharm": {
     "name": "#%%\n"
    }
   },
   "outputs": [
    {
     "name": "stdout",
     "output_type": "stream",
     "text": [
      "1250/1250 [==============================] - 2s 2ms/step - loss: 2.3011 - sparse_categorical_accuracy: 0.1141 - std_of_activation: 0.0000e+00 - val_loss: 2.3015 - val_sparse_categorical_accuracy: 0.1115 - val_std_of_activation: 0.0000e+00\n"
     ]
    },
    {
     "data": {
      "text/plain": [
       "<keras.callbacks.History at 0x166808090>"
      ]
     },
     "execution_count": 10,
     "metadata": {},
     "output_type": "execute_result"
    }
   ],
   "source": [
    "model.fit(x_train, y_train, batch_size=32, epochs=1, validation_split=0.2)\n"
   ]
  },
  {
   "cell_type": "markdown",
   "metadata": {},
   "source": [
    "## 3 使用tf.data构造数据"
   ]
  },
  {
   "cell_type": "markdown",
   "metadata": {},
   "source": [
    "到现在我们已经了解了如何使用使用numpy作为输入数据进行训练和验证。下面，我们将介绍如何使用tf.data作为输入数据进行。\n",
    "\n"
   ]
  },
  {
   "cell_type": "code",
   "execution_count": 11,
   "metadata": {
    "collapsed": false,
    "jupyter": {
     "outputs_hidden": false
    },
    "pycharm": {
     "name": "#%%\n"
    }
   },
   "outputs": [
    {
     "name": "stdout",
     "output_type": "stream",
     "text": [
      "Epoch 1/3\n",
      "100/100 [==============================] - 1s 2ms/step - loss: 0.8249 - sparse_categorical_accuracy: 0.7839 - val_loss: 0.4477 - val_sparse_categorical_accuracy: 0.8646\n",
      "Epoch 2/3\n",
      "100/100 [==============================] - 0s 1ms/step - loss: 0.3901 - sparse_categorical_accuracy: 0.8906 - val_loss: 0.3389 - val_sparse_categorical_accuracy: 0.8802\n",
      "Epoch 3/3\n",
      "100/100 [==============================] - 0s 2ms/step - loss: 0.3424 - sparse_categorical_accuracy: 0.9002 - val_loss: 0.2592 - val_sparse_categorical_accuracy: 0.9167\n"
     ]
    },
    {
     "data": {
      "text/plain": [
       "<keras.callbacks.History at 0x172331690>"
      ]
     },
     "execution_count": 11,
     "metadata": {},
     "output_type": "execute_result"
    }
   ],
   "source": [
    "def get_compiled_model():\n",
    "    inputs=keras.Input(shape=(784,),name='mnist_input')\n",
    "    h1=layers.Dense(64,activation='relu')(inputs)\n",
    "    h2=layers.Dense(64,activation='relu')(h1)\n",
    "    outputs=layers.Dense(10,activation='softmax')(h2)\n",
    "    model=keras.Model(inputs,outputs)\n",
    "    model.compile(optimizer=keras.optimizers.RMSprop(),\n",
    "                 loss=keras.losses.SparseCategoricalCrossentropy(),\n",
    "                 metrics=[keras.metrics.SparseCategoricalAccuracy()])\n",
    "    return model\n",
    "model=get_compiled_model()\n",
    "# 构建dataset实例\n",
    "train_dataset=tf.data.Dataset.from_tensor_slices((x_train,y_train))\n",
    "# 打乱\n",
    "train_dataset=train_dataset.shuffle(buffer_size=1024).batch(64)\n",
    "# 获得验证数据\n",
    "val_dataset=tf.data.Dataset.from_tensor_slices((x_val,y_val))\n",
    "val_dataset=val_dataset.batch(64)\n",
    "\n",
    "# model.fit(train_dataset, epochs=3)\n",
    "# steps_per_epoch 每个epoch只训练几步\n",
    "# validation_steps 每次验证，验证几步\n",
    "\n",
    "model.fit(train_dataset,epochs=3,steps_per_epoch=100,\n",
    "         validation_data=val_dataset,validation_steps=3)"
   ]
  },
  {
   "cell_type": "markdown",
   "metadata": {},
   "source": [
    "如果只想对该数据集中的特定批次进行训练，则可以传递steps_per_epoch参数，即批训练多少步。同样我们可以使用train_dataset.take(), 来获取每批次中训练的数据，其和steps_per_epoc等价。\n",
    "\n"
   ]
  },
  {
   "cell_type": "code",
   "execution_count": 12,
   "metadata": {
    "collapsed": false,
    "jupyter": {
     "outputs_hidden": false
    },
    "pycharm": {
     "name": "#%%\n"
    }
   },
   "outputs": [
    {
     "name": "stdout",
     "output_type": "stream",
     "text": [
      "Epoch 1/3\n",
      "100/100 [==============================] - 0s 1ms/step - loss: 0.7417 - sparse_categorical_accuracy: 0.8159\n",
      "Epoch 2/3\n",
      "100/100 [==============================] - 0s 1ms/step - loss: 0.3046 - sparse_categorical_accuracy: 0.9147\n",
      "Epoch 3/3\n",
      "100/100 [==============================] - 0s 1ms/step - loss: 0.2394 - sparse_categorical_accuracy: 0.9311\n"
     ]
    },
    {
     "data": {
      "text/plain": [
       "<keras.callbacks.History at 0x1432f8990>"
      ]
     },
     "execution_count": 12,
     "metadata": {},
     "output_type": "execute_result"
    }
   ],
   "source": [
    "model = get_compiled_model()\n",
    "\n",
    "model.fit(train_dataset.take(100), epochs=3)\n"
   ]
  },
  {
   "cell_type": "code",
   "execution_count": 13,
   "metadata": {
    "collapsed": false,
    "jupyter": {
     "outputs_hidden": false
    },
    "pycharm": {
     "name": "#%%\n"
    }
   },
   "outputs": [
    {
     "name": "stdout",
     "output_type": "stream",
     "text": [
      "\n",
      "# Evaluate\n",
      "157/157 [==============================] - 0s 968us/step - loss: 0.2806 - sparse_categorical_accuracy: 0.9156\n"
     ]
    },
    {
     "data": {
      "text/plain": [
       "[0.2806098759174347, 0.9156000018119812]"
      ]
     },
     "execution_count": 13,
     "metadata": {},
     "output_type": "execute_result"
    }
   ],
   "source": [
    "# 模型测试\n",
    "test_dataset = tf.data.Dataset.from_tensor_slices((x_test, y_test))\n",
    "test_dataset = test_dataset.batch(64)\n",
    "\n",
    "print('\\n# Evaluate')\n",
    "model.evaluate(test_dataset)"
   ]
  },
  {
   "cell_type": "markdown",
   "metadata": {},
   "source": [
    "其他格式输入数据支持\n",
    "\n",
    "除了numpy数值和TensorFlow Dataset,还可以用Pandas和python迭代器作为数据输入。 通常小数据推荐使用numpy， 大数据推荐使用TensorFlow Dataset。\n",
    "\n"
   ]
  },
  {
   "cell_type": "code",
   "execution_count": 14,
   "metadata": {
    "collapsed": false,
    "jupyter": {
     "outputs_hidden": false
    },
    "pycharm": {
     "name": "#%%\n"
    }
   },
   "outputs": [
    {
     "name": "stdout",
     "output_type": "stream",
     "text": [
      "1250/1250 [==============================] - 2s 2ms/step - loss: 0.2115 - sparse_categorical_accuracy: 0.9372 - val_loss: 0.1883 - val_sparse_categorical_accuracy: 0.9424\n"
     ]
    },
    {
     "data": {
      "text/plain": [
       "<keras.callbacks.History at 0x17231b690>"
      ]
     },
     "execution_count": 14,
     "metadata": {},
     "output_type": "execute_result"
    }
   ],
   "source": [
    "model.fit(x_train, y_train, batch_size=32, epochs=1, validation_split=0.2)\n"
   ]
  },
  {
   "cell_type": "markdown",
   "metadata": {},
   "source": [
    "其他格式输入数据支持\n",
    "\n",
    "除了numpy数值和TensorFlow Dataset,还可以用Pandas和python迭代器作为数据输入。 通常小数据推荐使用numpy， 大数据推荐使用TensorFlow Dataset。\n",
    "\n"
   ]
  },
  {
   "cell_type": "markdown",
   "metadata": {},
   "source": [
    "## 4 样本权重和类权重\n"
   ]
  },
  {
   "cell_type": "markdown",
   "metadata": {},
   "source": [
    "在模型训练时可以，可以人工设定样本权重和类权重。\n",
    "\n",
    "“样本权重”数组是一个数字数组，用于指定批处理中每个样本在计算总损失时应具有多少权重。 它通常用于不平衡的分类问题（这个想法是为了给予很少见的类更多的权重）。 当使用的权重是1和0时，该数组可以用作损失函数的掩码（完全丢弃某些样本对总损失的贡献）。\n",
    "\n",
    "“类权重”dict是同一概念的更具体的实例：它将类索引映射到应该用于属于该类的样本的样本权重。 例如，如果类“0”比数据中的类“1”少两倍，则可以使用class_weight = {0：1.，1：0.5}。\n",
    "\n",
    "添加方法：\n",
    "\n",
    "+ 使用Numpy数据时： 通过sample_weight和class_weight参数传递。\n",
    "+ 使用Dataset数据时： 通过使数据集返回(input_batch, target_batch, sample_weight_batch)。\n",
    "下面是一个Numpy数据中加大第5类的权重的例子。\n",
    "\n",
    "下面是一个Numpy数据中加大第5类的权重的例子。"
   ]
  },
  {
   "cell_type": "code",
   "execution_count": 18,
   "metadata": {
    "collapsed": false,
    "jupyter": {
     "outputs_hidden": false
    },
    "pycharm": {
     "is_executing": false,
     "name": "#%%\n"
    }
   },
   "outputs": [],
   "source": [
    "# 增加第5类的权重\n",
    "import numpy as np\n",
    "# 类权重\n",
    "model = get_compiled_model()\n",
    "class_weight={i:1.0 for i in range(10)}\n",
    "# 第5类的权重为2\n"
   ]
  },
  {
   "cell_type": "code",
   "execution_count": 27,
   "metadata": {},
   "outputs": [
    {
     "name": "stdout",
     "output_type": "stream",
     "text": [
      "{0: 1.0, 1: 1.0, 2: 1.0, 3: 1.0, 4: 1.0, 5: 2.0, 6: 1.0, 7: 1.0, 8: 1.0, 9: 1.0}\n",
      "Epoch 1/4\n",
      "782/782 [==============================] - 1s 1ms/step - loss: 0.3690 - sparse_categorical_accuracy: 0.9020\n",
      "Epoch 2/4\n",
      "782/782 [==============================] - 1s 1ms/step - loss: 0.1741 - sparse_categorical_accuracy: 0.9511\n",
      "Epoch 3/4\n",
      "782/782 [==============================] - 1s 1ms/step - loss: 0.1292 - sparse_categorical_accuracy: 0.9642\n",
      "Epoch 4/4\n",
      "782/782 [==============================] - 1s 1ms/step - loss: 0.1043 - sparse_categorical_accuracy: 0.9711\n",
      "Epoch 1/4\n",
      "782/782 [==============================] - 1s 1ms/step - loss: 0.3727 - sparse_categorical_accuracy: 0.9023\n",
      "Epoch 2/4\n",
      "782/782 [==============================] - 1s 1ms/step - loss: 0.1763 - sparse_categorical_accuracy: 0.9503\n",
      "Epoch 3/4\n",
      "782/782 [==============================] - 1s 1ms/step - loss: 0.1301 - sparse_categorical_accuracy: 0.9639\n",
      "Epoch 4/4\n",
      "782/782 [==============================] - 1s 1ms/step - loss: 0.1035 - sparse_categorical_accuracy: 0.9712\n"
     ]
    },
    {
     "data": {
      "text/plain": [
       "<keras.callbacks.History at 0x17439b4d0>"
      ]
     },
     "execution_count": 27,
     "metadata": {},
     "output_type": "execute_result"
    }
   ],
   "source": [
    "# 增加第5类的权重\n",
    "import numpy as np\n",
    "# 类权重\n",
    "model = get_compiled_model()\n",
    "class_weight = {i:1.0 for i in range(10)}\n",
    "# 第5类的权重为2\n",
    "class_weight[5] = 2.0\n",
    "print(class_weight)\n",
    "model.fit(x_train, y_train,\n",
    "         class_weight=class_weight,\n",
    "         batch_size=64,\n",
    "         epochs=4)\n",
    "# 样本权重\n",
    "model = get_compiled_model()\n",
    "sample_weight = np.ones(shape=(len(y_train),))\n",
    "sample_weight[y_train == 5] = 2.0\n",
    "model.fit(x_train, y_train,\n",
    "         sample_weight=sample_weight,\n",
    "         batch_size=64,\n",
    "         epochs=4)\n"
   ]
  },
  {
   "cell_type": "markdown",
   "metadata": {},
   "source": [
    "Dataset数据中加大第5类的权重的例子。\n",
    "\n"
   ]
  },
  {
   "cell_type": "code",
   "execution_count": 28,
   "metadata": {},
   "outputs": [
    {
     "name": "stdout",
     "output_type": "stream",
     "text": [
      "Epoch 1/3\n",
      "782/782 [==============================] - 1s 1ms/step - loss: 0.3640 - sparse_categorical_accuracy: 0.9062\n",
      "Epoch 2/3\n",
      "782/782 [==============================] - 1s 1ms/step - loss: 0.1650 - sparse_categorical_accuracy: 0.9545\n",
      "Epoch 3/3\n",
      "782/782 [==============================] - 1s 1ms/step - loss: 0.1255 - sparse_categorical_accuracy: 0.9656\n"
     ]
    },
    {
     "data": {
      "text/plain": [
       "<keras.callbacks.History at 0x174d9fe10>"
      ]
     },
     "execution_count": 28,
     "metadata": {},
     "output_type": "execute_result"
    }
   ],
   "source": [
    "# tf.data数据\n",
    "model = get_compiled_model()\n",
    "\n",
    "sample_weight = np.ones(shape=(len(y_train),))\n",
    "sample_weight[y_train == 5] = 2.0\n",
    "# 在构造dataset时传入sample_weight\n",
    "train_dataset = tf.data.Dataset.from_tensor_slices((x_train, y_train,\n",
    "                                                    sample_weight))\n",
    "train_dataset = train_dataset.shuffle(buffer_size=1024).batch(64)\n",
    "\n",
    "val_dataset = tf.data.Dataset.from_tensor_slices((x_val, y_val))\n",
    "val_dataset = val_dataset.batch(64)\n",
    "\n",
    "model.fit(train_dataset, epochs=3, )\n"
   ]
  },
  {
   "cell_type": "markdown",
   "metadata": {},
   "source": [
    "## 5 多输入多输出模型\n"
   ]
  },
  {
   "cell_type": "markdown",
   "metadata": {},
   "source": [
    "有些模型是是多输入或多输出的，此时可以为他们设置不同的权重的loss和metric。\n",
    "\n"
   ]
  },
  {
   "cell_type": "code",
   "execution_count": 29,
   "metadata": {},
   "outputs": [
    {
     "data": {
      "image/png": "[encoded data removed]",
      "text/plain": [
       "<IPython.core.display.Image object>"
      ]
     },
     "execution_count": 29,
     "metadata": {},
     "output_type": "execute_result"
    }
   ],
   "source": [
    "image_input = keras.Input(shape=(32, 32, 3), name='img_input')\n",
    "timeseries_input = keras.Input(shape=(None, 10), name='ts_input')\n",
    "\n",
    "x1=layers.Conv2D(3,3)(image_input)\n",
    "x1=layers.GlobalMaxPool2D()(x1)\n",
    "\n",
    "x2=layers.Conv1D(3,3)(timeseries_input)\n",
    "x2=layers.GlobalMaxPool1D()(x2)\n",
    "\n",
    "x=layers.concatenate([x1,x2])\n",
    "\n",
    "score_output=layers.Dense(1,name='score_output')(x)\n",
    "class_output=layers.Dense(5,activation='softmax',name='class_output')(x)\n",
    "\n",
    "model=keras.Model(inputs=[image_input,timeseries_input],\n",
    "                 outputs=[score_output,class_output])\n",
    "keras.utils.plot_model(model,'class_output.png',show_shapes=True)"
   ]
  },
  {
   "cell_type": "markdown",
   "metadata": {},
   "source": [
    "设置不同的loss和metric\n",
    "\n"
   ]
  },
  {
   "cell_type": "code",
   "execution_count": 35,
   "metadata": {},
   "outputs": [],
   "source": [
    "# 可以为模型指定不同的loss和metrics\n",
    "model.compile(optimizer=keras.optimizers.RMSprop(1e-3),\n",
    "             loss=[keras.losses.MeanSquaredError(),keras.losses.CategoricalCrossentropy()])\n",
    "# 还可以指定loss的权重\n",
    "model.compile(\n",
    "    optimizer=keras.optimizers.RMSprop(1e-3),\n",
    "    loss={'score_output': keras.losses.MeanSquaredError(),\n",
    "          'class_output': keras.losses.CategoricalCrossentropy()},\n",
    "    metrics={'score_output': [keras.metrics.MeanAbsolutePercentageError(),\n",
    "                              keras.metrics.MeanAbsoluteError()],\n",
    "             'class_output': [keras.metrics.CategoricalAccuracy()]},\n",
    "    loss_weights={'score_output': 2., 'class_output': 1.})\n",
    "\n",
    "# 可以把不需要传播的loss置0\n",
    "model.compile(optimizer=keras.optimizers.RMSprop(1e-3),\n",
    "             loss=[None,keras.losses.CategoricalCrossentropy()])\n",
    "\n",
    "# 可以使用字典的方式设置\n",
    "model.compile(\n",
    "    optimizer=keras.optimizers.RMSprop(1e-3),\n",
    "    loss={'class_output': keras.losses.CategoricalCrossentropy()})"
   ]
  },
  {
   "cell_type": "markdown",
   "metadata": {},
   "source": [
    "为多输入和多输出模型构造numpy数据，并训练。\n",
    "\n"
   ]
  },
  {
   "cell_type": "code",
   "execution_count": 36,
   "metadata": {},
   "outputs": [
    {
     "name": "stdout",
     "output_type": "stream",
     "text": [
      "Epoch 1/3\n",
      "4/4 [==============================] - 1s 4ms/step - loss: 11.4107 - score_output_loss: 6.8748 - class_output_loss: 4.5359\n",
      "Epoch 2/3\n",
      "4/4 [==============================] - 0s 4ms/step - loss: 9.9413 - score_output_loss: 5.3750 - class_output_loss: 4.5662\n",
      "Epoch 3/3\n",
      "4/4 [==============================] - 0s 4ms/step - loss: 9.0678 - score_output_loss: 4.4715 - class_output_loss: 4.5962\n",
      "Epoch 1/3\n",
      "4/4 [==============================] - 0s 4ms/step - loss: 8.4196 - score_output_loss: 3.7970 - class_output_loss: 4.6226\n",
      "Epoch 2/3\n",
      "4/4 [==============================] - 0s 5ms/step - loss: 7.8793 - score_output_loss: 3.2394 - class_output_loss: 4.6399\n",
      "Epoch 3/3\n",
      "4/4 [==============================] - 0s 4ms/step - loss: 7.4361 - score_output_loss: 2.7733 - class_output_loss: 4.6629\n"
     ]
    },
    {
     "data": {
      "text/plain": [
       "<keras.callbacks.History at 0x175bba210>"
      ]
     },
     "execution_count": 36,
     "metadata": {},
     "output_type": "execute_result"
    }
   ],
   "source": [
    "model.compile(optimizer=keras.optimizers.RMSprop(1e-3),\n",
    "             loss=[keras.losses.MeanSquaredError(),\n",
    "                  keras.losses.CategoricalCrossentropy()])\n",
    "# 生成数据\n",
    "img_data = np.random.random_sample(size=(100, 32, 32, 3))\n",
    "ts_data = np.random.random_sample(size=(100, 20, 10))\n",
    "score_targets = np.random.random_sample(size=(100, 1))\n",
    "class_targets = np.random.random_sample(size=(100, 5))\n",
    "\n",
    "# 训练\n",
    "model.fit([img_data, ts_data], [score_targets, class_targets],\n",
    "          batch_size=32,\n",
    "          epochs=3)\n",
    "\n",
    "# 可以使用字典匹配输入输出数据\n",
    "model.fit({'img_input': img_data, 'ts_input': ts_data},\n",
    "          {'score_output': score_targets, 'class_output': class_targets},\n",
    "          batch_size=32,\n",
    "          epochs=3)\n"
   ]
  },
  {
   "cell_type": "markdown",
   "metadata": {},
   "source": [
    "使用Dataset构造数据。\n",
    "\n"
   ]
  },
  {
   "cell_type": "code",
   "execution_count": 37,
   "metadata": {},
   "outputs": [
    {
     "name": "stdout",
     "output_type": "stream",
     "text": [
      "Epoch 1/3\n",
      "2/2 [==============================] - 1s 9ms/step - loss: 7.0797 - score_output_loss: 2.4221 - class_output_loss: 4.6576\n",
      "Epoch 2/3\n",
      "2/2 [==============================] - 0s 10ms/step - loss: 6.9029 - score_output_loss: 2.2353 - class_output_loss: 4.6676\n",
      "Epoch 3/3\n",
      "2/2 [==============================] - 0s 8ms/step - loss: 6.7350 - score_output_loss: 2.0603 - class_output_loss: 4.6746\n"
     ]
    },
    {
     "data": {
      "text/plain": [
       "<keras.callbacks.History at 0x17592da90>"
      ]
     },
     "execution_count": 37,
     "metadata": {},
     "output_type": "execute_result"
    }
   ],
   "source": [
    "train_dataset = tf.data.Dataset.from_tensor_slices(\n",
    "    ({'img_input': img_data, 'ts_input': ts_data},\n",
    "     {'score_output': score_targets, 'class_output': class_targets}))\n",
    "train_dataset = train_dataset.shuffle(buffer_size=1024).batch(64)\n",
    "\n",
    "model.fit(train_dataset, epochs=3)\n"
   ]
  },
  {
   "cell_type": "markdown",
   "metadata": {},
   "source": [
    "## 6 使用回调"
   ]
  },
  {
   "cell_type": "markdown",
   "metadata": {},
   "source": [
    "Keras中的回调是在训练期间（在epoch开始时，batch结束时，epoch结束时等）与不同时间点调用的对象，可用于实现以下行为：\n",
    "\n",
    "+ 在训练期间的不同时间点进行验证（除了内置的按时间段验证）\n",
    "+ 定期检查模型是否超过某个精度阈值\n",
    "+ 在训练似乎停滞不前时，改变模型的学习率\n",
    "+ 在训练似乎停滞不前时，对顶层进行微调\n",
    "+ 在训练结束或超出某个性能阈值时发送电子邮件或即时消息通知等等。\n",
    "\n",
    "可使用的内置回调有\n",
    "\n",
    "+ ModelCheckpoint：定期保存模型。\n",
    "+ EarlyStopping：当训练不再改进验证指标时停止培训。\n",
    "+ TensorBoard：定期编写可在TensorBoard中显示的模型日志（更多细节见“可视化”）。\n",
    "+ CSVLogger：将丢失和指标数据流式传输到CSV文件。\n",
    "+ 等等"
   ]
  },
  {
   "cell_type": "markdown",
   "metadata": {},
   "source": [
    "### 6.1 回调使用"
   ]
  },
  {
   "cell_type": "markdown",
   "metadata": {},
   "source": [
    "下面是几个回调使用的简单例子\n",
    "\n"
   ]
  },
  {
   "cell_type": "markdown",
   "metadata": {},
   "source": [
    "#### 1）提前终止"
   ]
  },
  {
   "cell_type": "code",
   "execution_count": 38,
   "metadata": {},
   "outputs": [
    {
     "name": "stdout",
     "output_type": "stream",
     "text": [
      "Epoch 1/20\n",
      "625/625 [==============================] - 1s 2ms/step - loss: 0.3669 - sparse_categorical_accuracy: 0.8978 - val_loss: 0.2309 - val_sparse_categorical_accuracy: 0.9314\n",
      "Epoch 2/20\n",
      "625/625 [==============================] - 1s 1ms/step - loss: 0.1715 - sparse_categorical_accuracy: 0.9488 - val_loss: 0.1720 - val_sparse_categorical_accuracy: 0.9507\n",
      "Epoch 3/20\n",
      "625/625 [==============================] - 1s 1ms/step - loss: 0.1268 - sparse_categorical_accuracy: 0.9612 - val_loss: 0.1465 - val_sparse_categorical_accuracy: 0.9557\n",
      "Epoch 4/20\n",
      "625/625 [==============================] - 1s 1ms/step - loss: 0.1027 - sparse_categorical_accuracy: 0.9693 - val_loss: 0.1407 - val_sparse_categorical_accuracy: 0.9567\n",
      "Epoch 5/20\n",
      "625/625 [==============================] - 1s 1ms/step - loss: 0.0834 - sparse_categorical_accuracy: 0.9744 - val_loss: 0.1452 - val_sparse_categorical_accuracy: 0.9586\n",
      "Epoch 5: early stopping\n"
     ]
    },
    {
     "data": {
      "text/plain": [
       "<keras.callbacks.History at 0x175b2e7d0>"
      ]
     },
     "execution_count": 38,
     "metadata": {},
     "output_type": "execute_result"
    }
   ],
   "source": [
    "model=get_compiled_model()\n",
    "callbacks=[\n",
    "    keras.callbacks.EarlyStopping( \n",
    "        # 不再提升的关注指标\n",
    "        monitor='val_loss',\n",
    "        # 不再提升的阈值\n",
    "        min_delta=1e-2,\n",
    "        # 不再提升的轮次\n",
    "        patience=2,\n",
    "        verbose=1)\n",
    "]\n",
    "model.fit(x_train, y_train,\n",
    "          epochs=20,\n",
    "          batch_size=64,\n",
    "          callbacks=callbacks,\n",
    "          validation_split=0.2)"
   ]
  },
  {
   "cell_type": "markdown",
   "metadata": {},
   "source": [
    "#### 2）模型保存"
   ]
  },
  {
   "cell_type": "code",
   "execution_count": 39,
   "metadata": {},
   "outputs": [
    {
     "name": "stdout",
     "output_type": "stream",
     "text": [
      "Epoch 1/3\n",
      "615/625 [============================>.] - ETA: 0s - loss: 0.3727 - sparse_categorical_accuracy: 0.8948\n",
      "Epoch 1: val_loss improved from inf to 0.21887, saving model to mymodel_1.h5\n",
      "625/625 [==============================] - 1s 2ms/step - loss: 0.3697 - sparse_categorical_accuracy: 0.8957 - val_loss: 0.2189 - val_sparse_categorical_accuracy: 0.9332\n",
      "Epoch 2/3\n",
      "589/625 [===========================>..] - ETA: 0s - loss: 0.1705 - sparse_categorical_accuracy: 0.9507\n",
      "Epoch 2: val_loss improved from 0.21887 to 0.15810, saving model to mymodel_2.h5\n",
      "625/625 [==============================] - 1s 1ms/step - loss: 0.1696 - sparse_categorical_accuracy: 0.9509 - val_loss: 0.1581 - val_sparse_categorical_accuracy: 0.9528\n",
      "Epoch 3/3\n",
      "594/625 [===========================>..] - ETA: 0s - loss: 0.1204 - sparse_categorical_accuracy: 0.9639\n",
      "Epoch 3: val_loss improved from 0.15810 to 0.14918, saving model to mymodel_3.h5\n",
      "625/625 [==============================] - 1s 1ms/step - loss: 0.1212 - sparse_categorical_accuracy: 0.9638 - val_loss: 0.1492 - val_sparse_categorical_accuracy: 0.9555\n"
     ]
    },
    {
     "data": {
      "text/plain": [
       "<keras.callbacks.History at 0x172b70310>"
      ]
     },
     "execution_count": 39,
     "metadata": {},
     "output_type": "execute_result"
    }
   ],
   "source": [
    "# checkpoint模型回调\n",
    "model = get_compiled_model()\n",
    "check_callback = keras.callbacks.ModelCheckpoint(\n",
    "    # 模型路径\n",
    "    filepath='mymodel_{epoch}.h5',\n",
    "    # 是否保存最佳\n",
    "    save_best_only=True,\n",
    "    # 监控指标\n",
    "    monitor='val_loss',\n",
    "    # 进度条类型\n",
    "    verbose=1\n",
    ")\n",
    "model.fit(x_train, y_train,\n",
    "         epochs=3,\n",
    "         batch_size=64,\n",
    "         callbacks=[check_callback],\n",
    "         validation_split=0.2)\n"
   ]
  },
  {
   "cell_type": "markdown",
   "metadata": {},
   "source": [
    "#### 3）学习率调整"
   ]
  },
  {
   "cell_type": "code",
   "execution_count": 40,
   "metadata": {},
   "outputs": [
    {
     "name": "stdout",
     "output_type": "stream",
     "text": [
      "Epoch 1/3\n",
      "583/625 [==========================>...] - ETA: 0s - loss: 4.5903 - sparse_categorical_accuracy: 0.4240\n",
      "Epoch 1: val_loss did not improve from 0.14918\n",
      "625/625 [==============================] - 1s 1ms/step - loss: 4.3857 - sparse_categorical_accuracy: 0.4303 - val_loss: 1.3169 - val_sparse_categorical_accuracy: 0.5219\n",
      "Epoch 2/3\n",
      "593/625 [===========================>..] - ETA: 0s - loss: 1.2675 - sparse_categorical_accuracy: 0.5204\n",
      "Epoch 2: val_loss did not improve from 0.14918\n",
      "625/625 [==============================] - 1s 1ms/step - loss: 1.2699 - sparse_categorical_accuracy: 0.5196 - val_loss: 1.1683 - val_sparse_categorical_accuracy: 0.5616\n",
      "Epoch 3/3\n",
      "593/625 [===========================>..] - ETA: 0s - loss: 1.3682 - sparse_categorical_accuracy: 0.5047\n",
      "Epoch 3: val_loss did not improve from 0.14918\n",
      "625/625 [==============================] - 1s 1ms/step - loss: 1.3638 - sparse_categorical_accuracy: 0.5055 - val_loss: 1.3755 - val_sparse_categorical_accuracy: 0.5176\n"
     ]
    },
    {
     "data": {
      "text/plain": [
       "<keras.callbacks.History at 0x175b0bed0>"
      ]
     },
     "execution_count": 40,
     "metadata": {},
     "output_type": "execute_result"
    }
   ],
   "source": [
    "# 动态调整学习率\n",
    "initial_learning_rate = 0.1\n",
    "\n",
    "lr_schedule = keras.optimizers.schedules.ExponentialDecay(\n",
    "     # 初始学习率\n",
    "    initial_learning_rate,\n",
    "    # 延迟步数\n",
    "    decay_steps=10000,\n",
    "    # 调整百分比\n",
    "    decay_rate=0.96,\n",
    "    staircase=True\n",
    ")\n",
    "\n",
    "optimizer = keras.optimizers.RMSprop(learning_rate=lr_schedule)\n",
    "model.compile(\n",
    "    optimizer=optimizer,\n",
    "    loss = keras.losses.SparseCategoricalCrossentropy(),\n",
    "    metrics = [keras.metrics.SparseCategoricalAccuracy()]\n",
    ")\n",
    "\n",
    "model.fit(x_train, y_train,\n",
    "         epochs=3,\n",
    "         batch_size=64,\n",
    "         callbacks=[check_callback],\n",
    "         validation_split=0.2)"
   ]
  },
  {
   "cell_type": "markdown",
   "metadata": {},
   "source": [
    "#### 4）训练可视化"
   ]
  },
  {
   "cell_type": "code",
   "execution_count": 41,
   "metadata": {},
   "outputs": [
    {
     "name": "stdout",
     "output_type": "stream",
     "text": [
      "Epoch 1/5\n",
      "625/625 [==============================] - 2s 1ms/step - loss: 0.3744 - sparse_categorical_accuracy: 0.8948 - val_loss: 0.2425 - val_sparse_categorical_accuracy: 0.9287\n",
      "Epoch 2/5\n",
      "625/625 [==============================] - 1s 1ms/step - loss: 0.1771 - sparse_categorical_accuracy: 0.9471 - val_loss: 0.1781 - val_sparse_categorical_accuracy: 0.9462\n",
      "Epoch 3/5\n",
      "625/625 [==============================] - 1s 1ms/step - loss: 0.1271 - sparse_categorical_accuracy: 0.9622 - val_loss: 0.1557 - val_sparse_categorical_accuracy: 0.9520\n",
      "Epoch 4/5\n",
      "625/625 [==============================] - 1s 1ms/step - loss: 0.0981 - sparse_categorical_accuracy: 0.9702 - val_loss: 0.1476 - val_sparse_categorical_accuracy: 0.9551\n",
      "Epoch 5/5\n",
      "625/625 [==============================] - 1s 1ms/step - loss: 0.0807 - sparse_categorical_accuracy: 0.9756 - val_loss: 0.1373 - val_sparse_categorical_accuracy: 0.9599\n"
     ]
    },
    {
     "data": {
      "text/plain": [
       "<keras.callbacks.History at 0x175d06d90>"
      ]
     },
     "execution_count": 41,
     "metadata": {},
     "output_type": "execute_result"
    }
   ],
   "source": [
    "# 使用tensorboard\n",
    "tensorboard_cbk=keras.callbacks.TensorBoard(log_dir='./')\n",
    "model = get_compiled_model()\n",
    "model.fit(x_train, y_train,\n",
    "         epochs=5,\n",
    "         batch_size=64,\n",
    "         callbacks=[tensorboard_cbk],\n",
    "         validation_split=0.2)"
   ]
  },
  {
   "cell_type": "code",
   "execution_count": 45,
   "metadata": {},
   "outputs": [],
   "source": [
    "%load_ext tensorboard\n"
   ]
  },
  {
   "cell_type": "code",
   "execution_count": 46,
   "metadata": {},
   "outputs": [
    {
     "data": {
      "text/html": [
       "\n",
       "      <iframe id=\"tensorboard-frame-6ae0c5f83305f02a\" width=\"100%\" height=\"800\" frameborder=\"0\">\n",
       "      </iframe>\n",
       "      <script>\n",
       "        (function() {\n",
       "          const frame = document.getElementById(\"tensorboard-frame-6ae0c5f83305f02a\");\n",
       "          const url = new URL(\"/\", window.location);\n",
       "          const port = 6006;\n",
       "          if (port) {\n",
       "            url.port = port;\n",
       "          }\n",
       "          frame.src = url;\n",
       "        })();\n",
       "      </script>\n",
       "    "
      ],
      "text/plain": [
       "<IPython.core.display.HTML object>"
      ]
     },
     "metadata": {},
     "output_type": "display_data"
    }
   ],
   "source": [
    "%tensorboard --logdir='./'"
   ]
  },
  {
   "cell_type": "markdown",
   "metadata": {},
   "source": [
    "### 6.2 创建自己的回调方法"
   ]
  },
  {
   "cell_type": "markdown",
   "metadata": {},
   "source": [
    "构建一个可以记录每个epoch的loss的回调\n",
    "\n"
   ]
  },
  {
   "cell_type": "code",
   "execution_count": 47,
   "metadata": {},
   "outputs": [
    {
     "name": "stdout",
     "output_type": "stream",
     "text": [
      "Epoch 1/3\n",
      "593/625 [===========================>..] - ETA: 0s - loss: 0.3779 - sparse_categorical_accuracy: 0.8926\n",
      "loss: 0.3688332140445709\n",
      "625/625 [==============================] - 2s 2ms/step - loss: 0.3688 - sparse_categorical_accuracy: 0.8950 - val_loss: 0.2436 - val_sparse_categorical_accuracy: 0.9249\n",
      "Epoch 2/3\n",
      "606/625 [============================>.] - ETA: 0s - loss: 0.1689 - sparse_categorical_accuracy: 0.9492\n",
      "loss: 0.1692400425672531\n",
      "625/625 [==============================] - 1s 1ms/step - loss: 0.1692 - sparse_categorical_accuracy: 0.9494 - val_loss: 0.1714 - val_sparse_categorical_accuracy: 0.9488\n",
      "Epoch 3/3\n",
      "594/625 [===========================>..] - ETA: 0s - loss: 0.1241 - sparse_categorical_accuracy: 0.9625\n",
      "loss: 0.12350111454725266\n",
      "625/625 [==============================] - 1s 1ms/step - loss: 0.1235 - sparse_categorical_accuracy: 0.9627 - val_loss: 0.1499 - val_sparse_categorical_accuracy: 0.9552\n"
     ]
    },
    {
     "data": {
      "text/plain": [
       "<keras.callbacks.History at 0x17473f250>"
      ]
     },
     "execution_count": 47,
     "metadata": {},
     "output_type": "execute_result"
    }
   ],
   "source": [
    "class LossHistory(keras.callbacks.Callback):\n",
    "    def on_train_begin(self,logs):\n",
    "        self.losses=[]\n",
    "    def on_epoch_end(self,batch,logs):\n",
    "        self.losses.append(logs.get('loss'))\n",
    "        print('\\nloss:',self.losses[-1])\n",
    "model=get_compiled_model()\n",
    "callbacks=[LossHistory()]\n",
    "model.fit(x_train,y_train,\n",
    "         epochs=3,\n",
    "         batch_size=64,\n",
    "         callbacks=callbacks,\n",
    "         validation_split=0.2)"
   ]
  },
  {
   "cell_type": "markdown",
   "metadata": {},
   "source": [
    "## 7 自己构造训练和验证循环"
   ]
  },
  {
   "cell_type": "markdown",
   "metadata": {},
   "source": [
    "我们可以自定义循环和验证方法，而不是简单调用fit和evaluate()。\n",
    "\n"
   ]
  },
  {
   "cell_type": "markdown",
   "metadata": {},
   "source": [
    "### 7.1使用GradientTape构建训练\n"
   ]
  },
  {
   "cell_type": "markdown",
   "metadata": {},
   "source": [
    "GradientTape可以计算变量梯度，并实现反向传播的功能。我们下面使用GradientTape来构建自定义训练循环。\n",
    "\n"
   ]
  },
  {
   "cell_type": "code",
   "execution_count": 49,
   "metadata": {},
   "outputs": [
    {
     "name": "stdout",
     "output_type": "stream",
     "text": [
      "epoch: 0\n",
      "Training loss (for one batch) at step 0: 2.3814585208892822\n",
      "Seen so far: 64 samples\n",
      "Training loss (for one batch) at step 200: 2.2066287994384766\n",
      "Seen so far: 12864 samples\n",
      "Training loss (for one batch) at step 400: 2.171036720275879\n",
      "Seen so far: 25664 samples\n",
      "Training loss (for one batch) at step 600: 1.993004560470581\n",
      "Seen so far: 38464 samples\n",
      "epoch: 1\n",
      "Training loss (for one batch) at step 0: 1.9147443771362305\n",
      "Seen so far: 64 samples\n",
      "Training loss (for one batch) at step 200: 1.9400231838226318\n",
      "Seen so far: 12864 samples\n",
      "Training loss (for one batch) at step 400: 1.78944730758667\n",
      "Seen so far: 25664 samples\n",
      "Training loss (for one batch) at step 600: 1.6601886749267578\n",
      "Seen so far: 38464 samples\n",
      "epoch: 2\n",
      "Training loss (for one batch) at step 0: 1.5209083557128906\n",
      "Seen so far: 64 samples\n",
      "Training loss (for one batch) at step 200: 1.5324820280075073\n",
      "Seen so far: 12864 samples\n",
      "Training loss (for one batch) at step 400: 1.2982056140899658\n",
      "Seen so far: 25664 samples\n",
      "Training loss (for one batch) at step 600: 1.2908682823181152\n",
      "Seen so far: 38464 samples\n"
     ]
    }
   ],
   "source": [
    "# 构建模型\n",
    "inputs = keras.Input(shape=(784,), name='digits')\n",
    "x = layers.Dense(64, activation='relu', name='dense_1')(inputs)\n",
    "x = layers.Dense(64, activation='relu', name='dense_2')(x)\n",
    "outputs = layers.Dense(10, activation='softmax', name='predictions')(x)\n",
    "model = keras.Model(inputs=inputs, outputs=outputs)\n",
    "\n",
    "# 优化器和损失函数\n",
    "optimizer = keras.optimizers.SGD(learning_rate=1e-3)\n",
    "loss_fn = keras.losses.SparseCategoricalCrossentropy()\n",
    "\n",
    "# 准备数据\n",
    "batch_size = 64\n",
    "train_dataset = tf.data.Dataset.from_tensor_slices((x_train, y_train))\n",
    "train_dataset = train_dataset.shuffle(buffer_size=1024).batch(batch_size)\n",
    "\n",
    "# 自己构造循环\n",
    "for epoch in range(3):\n",
    "    print('epoch:',epoch)\n",
    "    for  step,(x_batch_train,y_batch_train) in enumerate(train_dataset):\n",
    "        # 开一个gradient tape, 计算梯度\n",
    "        with tf.GradientTape() as tape:\n",
    "            logits= model(x_batch_train)\n",
    "             # 获取loss\n",
    "            loss_value=loss_fn(y_batch_train,logits)\n",
    "            # 由loss计算各变量梯度\n",
    "            grads=tape.gradient(loss_value,model.trainable_variables)\n",
    "            # 使用优化器计算反向传播\n",
    "            optimizer.apply_gradients(zip(grads,model.trainable_variables))\n",
    "        if step %200==0:\n",
    "            print('Training loss (for one batch) at step %s: %s' % (step, float(loss_value)))\n",
    "            print('Seen so far: %s samples' % ((step + 1) * 64))\n",
    "            "
   ]
  },
  {
   "cell_type": "markdown",
   "metadata": {},
   "source": [
    "### 7.2 在自定义训练中设定指标\n"
   ]
  },
  {
   "cell_type": "markdown",
   "metadata": {},
   "source": [
    "我们可以在自定义训练循环中随时使用内置指标（或编写的自定义指标）。流程如下：\n",
    "\n",
    "+ 在循环开始时实例化指标\n",
    "+ 每一批数据训练之后，调用metric.update_state()\n",
    "+ 需要获得指标时，调用metric.result()\n",
    "+ 需要清除指标时，调用metric.reset_states()"
   ]
  },
  {
   "cell_type": "code",
   "execution_count": 50,
   "metadata": {},
   "outputs": [
    {
     "name": "stdout",
     "output_type": "stream",
     "text": [
      "Start of epoch 0\n",
      "Training acc over epoch: 0.0\n",
      "Validation acc: 0.13590000569820404\n",
      "Start of epoch 1\n",
      "Training acc over epoch: 0.25\n",
      "Validation acc: 0.13609999418258667\n",
      "Start of epoch 2\n",
      "Training acc over epoch: 0.0625\n",
      "Validation acc: 0.13590000569820404\n"
     ]
    }
   ],
   "source": [
    "# 训练并验证\n",
    "\n",
    "inputs = keras.Input(shape=(784,), name='digits')\n",
    "x = layers.Dense(64, activation='relu', name='dense_1')(inputs)\n",
    "x = layers.Dense(64, activation='relu', name='dense_2')(x)\n",
    "outputs = layers.Dense(10, activation='softmax', name='predictions')(x)\n",
    "model = keras.Model(inputs=inputs, outputs=outputs)\n",
    "\n",
    "optimizer = keras.optimizers.SGD(learning_rate=1e-3)\n",
    "loss_fn = keras.losses.SparseCategoricalCrossentropy()\n",
    "\n",
    "# 实例化指标类.\n",
    "train_acc_metric=keras.metrics.SparseCategoricalAccuracy()\n",
    "val_acc_metric = keras.metrics.SparseCategoricalAccuracy()\n",
    "\n",
    "# 准备数据\n",
    "batch_size = 64\n",
    "train_dataset = tf.data.Dataset.from_tensor_slices((x_train, y_train))\n",
    "train_dataset = train_dataset.shuffle(buffer_size=1024).batch(batch_size)\n",
    "\n",
    "val_dataset = tf.data.Dataset.from_tensor_slices((x_val, y_val))\n",
    "val_dataset = val_dataset.batch(64)\n",
    "\n",
    "# 自定义训练迭代\n",
    "for epoch in range(3):\n",
    "    print('Start of epoch %d' % (epoch,))\n",
    "    # 获取每一批数据。\n",
    "    for step,(x_batch_train,y_batch_train) in enumerate(train_dataset):\n",
    "        with tf.GradientTape() as tape:\n",
    "            logits=model(x_batch_train)\n",
    "            loss_value=loss_fn(y_batch_train,logits)\n",
    "     # 计算梯度， 反向传播\n",
    "    grads =tape.gradient(loss_value,model.trainable_variables)\n",
    "    optimizer.apply_gradients(zip(grads,model.trainable_variables))\n",
    "    \n",
    "    # 更新指标\n",
    "    train_acc_metric(y_batch_train, logits)\n",
    "\n",
    "    # 输出\n",
    "    if step %200==0:\n",
    "        print('Training loss (for one batch) at step %s: %s' % (step, float(loss_value)))\n",
    "        print('Seen so far: %s samples' % ((step + 1) * 64))\n",
    "\n",
    "    # 每一批次结束，获取一次指标\n",
    "    train_acc=train_acc_metric.result()\n",
    "    print('Training acc over epoch: %s' % (float(train_acc),))\n",
    "    # 重置指标\n",
    "    train_acc_metric.reset_states()\n",
    "\n",
    "    # 迭代验证\n",
    "    for x_batch_val, y_batch_val in val_dataset:\n",
    "        val_logits = model(x_batch_val)\n",
    "        # Update val metrics\n",
    "        val_acc_metric(y_batch_val,val_logits)\n",
    "    # 获取验证指标\n",
    "    val_acc=val_acc_metric.result()\n",
    "    val_acc_metric.reset_states()\n",
    "    print('Validation acc: %s' % (float(val_acc),))\n",
    " "
   ]
  },
  {
   "cell_type": "markdown",
   "metadata": {},
   "source": [
    "### 7.3 在自定义训练中添加loss\n"
   ]
  },
  {
   "cell_type": "markdown",
   "metadata": {},
   "source": [
    "我们可以在自定义训练中添加自定义损失。"
   ]
  },
  {
   "cell_type": "code",
   "execution_count": 51,
   "metadata": {},
   "outputs": [
    {
     "name": "stdout",
     "output_type": "stream",
     "text": [
      "[<tf.Tensor: shape=(), dtype=float32, numpy=6.840322>]\n",
      "[<tf.Tensor: shape=(), dtype=float32, numpy=6.969339>]\n"
     ]
    }
   ],
   "source": [
    "##　添加自己构造的loss, 每次只能看到最新一次训练增加的loss\n",
    "class ActivityRegularizationLayer(layers.Layer):\n",
    "    def call(self,inputs):\n",
    "        self.add_loss(1e-2 * tf.reduce_sum(inputs))\n",
    "        return inputs\n",
    "inputs = keras.Input(shape=(784,), name='digits')\n",
    "x = layers.Dense(64, activation='relu', name='dense_1')(inputs)\n",
    "# 添加正则化损失层\n",
    "x=ActivityRegularizationLayer()(x)\n",
    "x= layers.Dense(64,activation='relu',name='dense_2')(x)\n",
    "outputs=layers.Dense(10,activation='softmax',name='predictions')(x)\n",
    "\n",
    "model=keras.Model(inputs=inputs,outputs=outputs)\n",
    "logits=model(x_train[:64])\n",
    "print(model.losses)\n",
    "logits=model(x_train[:64])\n",
    "logits=model(x_train[64:128])\n",
    "logits=model(x_train[128:192])\n",
    "print(model.losses)"
   ]
  },
  {
   "cell_type": "code",
   "execution_count": 52,
   "metadata": {},
   "outputs": [
    {
     "name": "stdout",
     "output_type": "stream",
     "text": [
      "Start of epoch 0\n",
      "Training loss (for one batch) at step 0: 9.400049209594727\n",
      "Seen so far: 64 samples\n",
      "Training loss (for one batch) at step 200: 2.4690287113189697\n",
      "Seen so far: 12864 samples\n",
      "Training loss (for one batch) at step 400: 2.3668293952941895\n",
      "Seen so far: 25664 samples\n",
      "Training loss (for one batch) at step 600: 2.3519060611724854\n",
      "Seen so far: 38464 samples\n",
      "Start of epoch 1\n",
      "Training loss (for one batch) at step 0: 2.3739871978759766\n",
      "Seen so far: 64 samples\n",
      "Training loss (for one batch) at step 200: 2.3238635063171387\n",
      "Seen so far: 12864 samples\n",
      "Training loss (for one batch) at step 400: 2.3360376358032227\n",
      "Seen so far: 25664 samples\n",
      "Training loss (for one batch) at step 600: 2.3178069591522217\n",
      "Seen so far: 38464 samples\n",
      "Start of epoch 2\n",
      "Training loss (for one batch) at step 0: 2.320657730102539\n",
      "Seen so far: 64 samples\n",
      "Training loss (for one batch) at step 200: 2.316014051437378\n",
      "Seen so far: 12864 samples\n",
      "Training loss (for one batch) at step 400: 2.3094589710235596\n",
      "Seen so far: 25664 samples\n",
      "Training loss (for one batch) at step 600: 2.3186163902282715\n",
      "Seen so far: 38464 samples\n"
     ]
    }
   ],
   "source": [
    "# 将loss添加进求导中\n",
    "optimizer = keras.optimizers.SGD(learning_rate=1e-3)\n",
    "\n",
    "for epoch in range(3):\n",
    "    print('Start of epoch %d' % (epoch,))\n",
    "\n",
    "    for step, (x_batch_train, y_batch_train) in enumerate(train_dataset):\n",
    "        with tf.GradientTape() as tape:\n",
    "            logits = model(x_batch_train)\n",
    "            loss_value = loss_fn(y_batch_train, logits)\n",
    "\n",
    "            # 添加额外的损失\n",
    "            loss_value += sum(model.losses) # 不同之处\n",
    "        # 求梯度，反向传播\n",
    "        grads = tape.gradient(loss_value, model.trainable_variables)\n",
    "        optimizer.apply_gradients(zip(grads, model.trainable_variables))\n",
    "\n",
    "        # 输出\n",
    "        if step % 200 == 0:\n",
    "            print('Training loss (for one batch) at step %s: %s' % (step, float(loss_value)))\n",
    "            print('Seen so far: %s samples' % ((step + 1) * 64))"
   ]
  },
  {
   "cell_type": "code",
   "execution_count": null,
   "metadata": {},
   "outputs": [],
   "source": []
  }
 ],
 "metadata": {
  "kernelspec": {
   "display_name": "Python 3 (ipykernel)",
   "language": "python",
   "name": "python3"
  },
  "language_info": {
   "codemirror_mode": {
    "name": "ipython",
    "version": 3
   },
   "file_extension": ".py",
   "mimetype": "text/x-python",
   "name": "python",
   "nbconvert_exporter": "python",
   "pygments_lexer": "ipython3",
   "version": "3.7.4"
  },
  "pycharm": {
   "stem_cell": {
    "cell_type": "raw",
    "metadata": {
     "collapsed": false
    },
    "source": []
   }
  }
 },
 "nbformat": 4,
 "nbformat_minor": 4
}
